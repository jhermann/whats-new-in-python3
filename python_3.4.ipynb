{
 "cells": [
  {
   "cell_type": "markdown",
   "metadata": {},
   "source": [
    "# What's new in Python 3.4 and below?\n",
    "\n",
    "This show-cases new features in the form of code snippets, based on these documents:\n",
    "\n",
    "* [What’s New In Python 3.0](https://docs.python.org/3.6/whatsnew/3.0.html)\n",
    "* [What’s New In Python 3.1](https://docs.python.org/3.6/whatsnew/3.1.html)\n",
    "* [What’s New In Python 3.2](https://docs.python.org/3.6/whatsnew/3.2.html)\n",
    "* [What’s New In Python 3.3](https://docs.python.org/3.6/whatsnew/3.3.html)\n",
    "* [What’s New In Python 3.4](https://docs.python.org/3.6/whatsnew/3.4.html)\n",
    "\n",
    "I won't mention stuff most people know from Python 2.7 backports like print-as-a-function, integer division, unicode strings, and so on.\n",
    "\n",
    "Python 3.4 introduces by-default certificate verification for HTTP clients (PEP 476) and makes `pip` a commodity."
   ]
  },
  {
   "cell_type": "markdown",
   "metadata": {},
   "source": [
    "## New and Changed Syntax"
   ]
  },
  {
   "cell_type": "markdown",
   "metadata": {},
   "source": [
    "Raising exceptions can now include a root cause (`raise ‹exc› from ‹cause›`), and catching is done with `except ‹exc› as ‹cause›`."
   ]
  },
  {
   "cell_type": "markdown",
   "metadata": {},
   "source": [
    "Dictionary comprehensions:"
   ]
  },
  {
   "cell_type": "code",
   "execution_count": 1,
   "metadata": {},
   "outputs": [
    {
     "data": {
      "text/plain": [
       "{0: 0, 1: 1, 2: 4, 3: 9, 4: 16}"
      ]
     },
     "execution_count": 1,
     "metadata": {},
     "output_type": "execute_result"
    }
   ],
   "source": [
    "{x: x**2 for x in range(5)}"
   ]
  },
  {
   "cell_type": "markdown",
   "metadata": {},
   "source": [
    "Set literals and set comprehensions:"
   ]
  },
  {
   "cell_type": "code",
   "execution_count": 2,
   "metadata": {},
   "outputs": [
    {
     "name": "stdout",
     "output_type": "stream",
     "text": [
      "{1, 2}\n",
      "set()\n",
      "<class 'dict'>\n",
      "{'_', 'I', 'A', 'N', 'M'}\n"
     ]
    }
   ],
   "source": [
    "print({1, 2, 1}, set(), type({}), {x.upper() for x in __name__}, sep='\\n')"
   ]
  },
  {
   "cell_type": "markdown",
   "metadata": {},
   "source": [
    "New octal and binary literals (the old octal literals are gone)."
   ]
  },
  {
   "cell_type": "code",
   "execution_count": 3,
   "metadata": {},
   "outputs": [
    {
     "data": {
      "text/plain": [
       "(464, '0o720', 10, '0b1010')"
      ]
     },
     "execution_count": 3,
     "metadata": {},
     "output_type": "execute_result"
    }
   ],
   "source": [
    "0o720, oct(464), 0b1010, bin(10)"
   ]
  },
  {
   "cell_type": "markdown",
   "metadata": {},
   "source": [
    "Bytes literals and `bytes()`:"
   ]
  },
  {
   "cell_type": "code",
   "execution_count": 4,
   "metadata": {},
   "outputs": [
    {
     "data": {
      "text/plain": [
       "(b'abc\\x9c', b'ab\\xc2\\xa2')"
      ]
     },
     "execution_count": 4,
     "metadata": {},
     "output_type": "execute_result"
    }
   ],
   "source": [
    "b'abc\\234', bytes('ab¢', encoding='utf-8')"
   ]
  },
  {
   "cell_type": "markdown",
   "metadata": {},
   "source": [
    "## New Library Modules\n",
    "\n",
    "-   **asyncio**: New provisional API for asynchronous I/O\n",
    "-   ensurepip: Bootstrapping the pip installer\n",
    "-   **enum**: Support for enumeration types\n",
    "-   **pathlib**: Object-oriented filesystem paths\n",
    "-   selectors: High-level and efficient I/O multiplexing, built upon the select module primitives\n",
    "-   **statistics**: A basic numerically stable statistics library\n",
    "-   tracemalloc: Trace Python memory allocations"
   ]
  },
  {
   "cell_type": "markdown",
   "metadata": {},
   "source": [
    "## Changes to Built-ins"
   ]
  },
  {
   "cell_type": "markdown",
   "metadata": {},
   "source": [
    "### Ordered Dictionaries (v3.1, PEP 372)\n",
    "\n",
    "The new `collections.OrderedDict` class allows you to retain insertion order of items. Note that Python 3.7 makes this a language feature for `dict`, and 3.6 already implements it *incidentally*."
   ]
  },
  {
   "cell_type": "code",
   "execution_count": 5,
   "metadata": {},
   "outputs": [
    {
     "data": {
      "text/plain": [
       "(OrderedDict([('z', 1), ('x', 2), ('a', 3)]), {'z': 1, 'x': 2, 'a': 3})"
      ]
     },
     "execution_count": 5,
     "metadata": {},
     "output_type": "execute_result"
    }
   ],
   "source": [
    "from collections import OrderedDict\n",
    "o = OrderedDict(z=1, x=2, a=3)\n",
    "o, dict(o)"
   ]
  },
  {
   "cell_type": "markdown",
   "metadata": {},
   "source": [
    "If a new entry overwrites an existing entry, the original insertion position is left unchanged."
   ]
  },
  {
   "cell_type": "code",
   "execution_count": 6,
   "metadata": {},
   "outputs": [
    {
     "data": {
      "text/plain": [
       "OrderedDict([('z', 1), ('x', -2), ('a', 3)])"
      ]
     },
     "execution_count": 6,
     "metadata": {},
     "output_type": "execute_result"
    }
   ],
   "source": [
    "o['x'] = -2\n",
    "o"
   ]
  },
  {
   "cell_type": "markdown",
   "metadata": {},
   "source": [
    "Deleting an entry and reinserting it will move it to the end."
   ]
  },
  {
   "cell_type": "code",
   "execution_count": 7,
   "metadata": {},
   "outputs": [
    {
     "data": {
      "text/plain": [
       "OrderedDict([('z', 1), ('a', 3), ('x', 4)])"
      ]
     },
     "execution_count": 7,
     "metadata": {},
     "output_type": "execute_result"
    }
   ],
   "source": [
    "del o['x']; o['x'] = 4\n",
    "o"
   ]
  },
  {
   "cell_type": "markdown",
   "metadata": {},
   "source": [
    "The standard library takes advantage of ordering at several places."
   ]
  },
  {
   "cell_type": "markdown",
   "metadata": {},
   "source": [
    "### Format Specifier for Thousands Separator (v3.1, PEP 378)\n",
    "\n",
    "The built-in `format` function and `str.format` offer a simple, non-locale aware way to format a number with a thousands separator. Locale-aware applications should use the existing `n` format specifier which already has some support for thousands separators."
   ]
  },
  {
   "cell_type": "code",
   "execution_count": 8,
   "metadata": {},
   "outputs": [
    {
     "data": {
      "text/plain": [
       "'1,234,567'"
      ]
     },
     "execution_count": 8,
     "metadata": {},
     "output_type": "execute_result"
    }
   ],
   "source": [
    "format(1234567, ',d')"
   ]
  },
  {
   "cell_type": "code",
   "execution_count": 9,
   "metadata": {},
   "outputs": [
    {
     "data": {
      "text/plain": [
       "'1,234,567.89'"
      ]
     },
     "execution_count": 9,
     "metadata": {},
     "output_type": "execute_result"
    }
   ],
   "source": [
    "format(1234567.89, ',.2f')"
   ]
  },
  {
   "cell_type": "code",
   "execution_count": 10,
   "metadata": {},
   "outputs": [
    {
     "data": {
      "text/plain": [
       "'12,345.600000+8,901,234.120000j'"
      ]
     },
     "execution_count": 10,
     "metadata": {},
     "output_type": "execute_result"
    }
   ],
   "source": [
    "format(12345.6 + 8901234.12j, ',f')"
   ]
  },
  {
   "cell_type": "code",
   "execution_count": 11,
   "metadata": {},
   "outputs": [
    {
     "data": {
      "text/plain": [
       "'1,234,567.89'"
      ]
     },
     "execution_count": 11,
     "metadata": {},
     "output_type": "execute_result"
    }
   ],
   "source": [
    "import decimal\n",
    "format(decimal.Decimal('1234567.89'), ',f')"
   ]
  },
  {
   "cell_type": "markdown",
   "metadata": {},
   "source": [
    "The supported types are `int`, `float`, `complex`, and `decimal.Decimal`."
   ]
  }
 ],
 "metadata": {
  "kernelspec": {
   "display_name": "Python 3",
   "language": "python",
   "name": "python3"
  },
  "language_info": {
   "codemirror_mode": {
    "name": "ipython",
    "version": 3
   },
   "file_extension": ".py",
   "mimetype": "text/x-python",
   "name": "python",
   "nbconvert_exporter": "python",
   "pygments_lexer": "ipython3",
   "version": "3.6.7"
  }
 },
 "nbformat": 4,
 "nbformat_minor": 2
}

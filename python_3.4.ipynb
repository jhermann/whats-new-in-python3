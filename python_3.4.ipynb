{
 "cells": [
  {
   "cell_type": "markdown",
   "metadata": {},
   "source": [
    "# What's new in Python 3.4 and below?\n",
    "\n",
    "This show-cases new features in the form of code snippets, based on these documents:\n",
    "\n",
    "* [What’s New In Python 3.0](https://docs.python.org/3.6/whatsnew/3.0.html)\n",
    "* [What’s New In Python 3.1](https://docs.python.org/3.6/whatsnew/3.1.html)\n",
    "* [What’s New In Python 3.2](https://docs.python.org/3.6/whatsnew/3.2.html)\n",
    "* [What’s New In Python 3.3](https://docs.python.org/3.6/whatsnew/3.3.html)\n",
    "* [What’s New In Python 3.4](https://docs.python.org/3.6/whatsnew/3.4.html)\n",
    "\n",
    "I won't mention stuff most people know from Python 2.7 backports like print-as-a-function, integer division, unicode strings, and so on.\n",
    "\n",
    "Python 3.0 started off with new `super()` and added `next()`. `raw_input()`, `file` type, `execfile` are all gone. `dict.has_key` removed because `in` is way more readable. Moved `reduce` to `functools.reduce` (and its use is discouraged). `reload` is now `imp.reload`. Methods accessed via their class are plain functions (no more ‘unbound methods’). Sorting a heterogeneous list no longer makes sense, due to the comparison operators being strict about only accepting compatible types. On the matter of sorting, use `key` instead of `cmp`, which is gone.\n",
    "\n",
    "PEP-3101 replaces `%` formatting with a new approach (`.format(…)`, see [pyformat.info](https://pyformat.info/)). PEP-3107 introduces function argument and return value annotations, reflected in the `__annotations__` attribute. Keyword-only arguments are added via PEP-3102 – named parameters occurring after `*args` or bare `*` in the parameter list *must* be specified using keyword syntax in a call. Classes now pass keyword arguments to their respective metaclass. The new `nonlocal` keyword (PEP-3104) makes outer but non-global scopes writable. Finally, PEP-3132 allows extended iterable unpacking (`a, *rest, b = range(5)`).\n",
    "\n",
    "Dict collections are now views, and the `iter` variants are no longer there. `zip`, `map` and `filter` return iterators, and `xrange` morphed into `range`.\n",
    "\n",
    "Python 3.1 added support for `__main__.py` in ZIPs and directories, making them callable as ‘scripts’. Similarly, packages containing such a module can be started with `python -m …`. IPv6 was added to `nntplib` and `imaplib`.\n",
    "\n",
    "Python 3.4 introduces by-default certificate verification for HTTP clients (PEP 476) and makes `pip` a commodity."
   ]
  },
  {
   "cell_type": "markdown",
   "metadata": {},
   "source": [
    "## New and Changed Syntax"
   ]
  },
  {
   "cell_type": "code",
   "execution_count": 1,
   "metadata": {},
   "outputs": [
    {
     "data": {
      "text/plain": [
       "{0: 0, 1: 1, 2: 4, 3: 9, 4: 16}"
      ]
     },
     "execution_count": 1,
     "metadata": {},
     "output_type": "execute_result"
    }
   ],
   "source": [
    "# Dictionary comprehensions\n",
    "{x: x**2 for x in range(5)}"
   ]
  },
  {
   "cell_type": "code",
   "execution_count": 2,
   "metadata": {},
   "outputs": [
    {
     "name": "stdout",
     "output_type": "stream",
     "text": [
      "{1, 2}\n",
      "set()\n",
      "<class 'dict'>\n",
      "['A', 'I', 'M', 'N', '_']\n"
     ]
    }
   ],
   "source": [
    "# Set literals and set comprehensions\n",
    "print({1, 2, 1}, set(), type({}), sorted({x.upper() for x in __name__}), sep='\\n')"
   ]
  },
  {
   "cell_type": "code",
   "execution_count": 3,
   "metadata": {},
   "outputs": [
    {
     "data": {
      "text/plain": [
       "(464, '0o720', 10, '0b1010')"
      ]
     },
     "execution_count": 3,
     "metadata": {},
     "output_type": "execute_result"
    }
   ],
   "source": [
    "# New octal and binary literals (the old octal literals are gone)\n",
    "0o720, oct(464), 0b1010, bin(10)"
   ]
  },
  {
   "cell_type": "code",
   "execution_count": 4,
   "metadata": {},
   "outputs": [
    {
     "data": {
      "text/plain": [
       "(b'abc\\x9c', b'ab\\xc2\\xa2')"
      ]
     },
     "execution_count": 4,
     "metadata": {},
     "output_type": "execute_result"
    }
   ],
   "source": [
    "# Bytes literals and `bytes()`\n",
    "b'abc\\234', bytes('ab¢', encoding='utf-8')"
   ]
  },
  {
   "cell_type": "markdown",
   "metadata": {},
   "source": [
    "The `with` statement now allows multiple context managers in a single statement (and `contextlib.nested` is deprecated)."
   ]
  },
  {
   "cell_type": "code",
   "execution_count": 5,
   "metadata": {},
   "outputs": [
    {
     "name": "stdout",
     "output_type": "stream",
     "text": [
      "Ubuntu 18.04.2 LTS \\n \\l\r\n"
     ]
    }
   ],
   "source": [
    "import shutil\n",
    "from tempfile import NamedTemporaryFile\n",
    "\n",
    "with open('/etc/issue', 'rb') as inp, NamedTemporaryFile() as out:\n",
    "    shutil.copyfileobj(inp, out)\n",
    "    out.flush()\n",
    "    !head -n1 {out.name}"
   ]
  },
  {
   "cell_type": "markdown",
   "metadata": {},
   "source": [
    "And `gzip.GzipFile` / `bz2.BZ2File` objects are now context managers."
   ]
  },
  {
   "cell_type": "markdown",
   "metadata": {},
   "source": [
    "Raising exceptions can now include a root cause (`raise ‹exc› from ‹cause›`), and catching is done with `except ‹exc› as ‹cause›`."
   ]
  },
  {
   "cell_type": "markdown",
   "metadata": {},
   "source": [
    "## New Library Modules\n",
    "\n",
    "-   **asyncio**: New provisional API for asynchronous I/O\n",
    "-   ensurepip: Bootstrapping the pip installer\n",
    "-   **enum**: Support for enumeration types\n",
    "-   importlib: A complete, portable, pure Python reference implementation of the import statement and `__import__`\n",
    "-   **pathlib**: Object-oriented filesystem paths\n",
    "-   selectors: High-level and efficient I/O multiplexing, built upon the select module primitives\n",
    "-   **statistics**: A basic numerically stable statistics library\n",
    "-   tracemalloc: Trace Python memory allocations"
   ]
  },
  {
   "cell_type": "markdown",
   "metadata": {},
   "source": [
    "## Changes to Built-ins"
   ]
  },
  {
   "cell_type": "markdown",
   "metadata": {},
   "source": [
    "### Ordered Dictionaries (v3.1, PEP 372)\n",
    "\n",
    "The new `collections.OrderedDict` class allows you to retain insertion order of items. Note that Python 3.7 makes this a language feature for `dict`, and 3.6 already implements it *incidentally*."
   ]
  },
  {
   "cell_type": "code",
   "execution_count": 6,
   "metadata": {},
   "outputs": [
    {
     "data": {
      "text/plain": [
       "(OrderedDict([('z', 1), ('x', 2), ('a', 3)]), {'z': 1, 'x': 2, 'a': 3})"
      ]
     },
     "execution_count": 6,
     "metadata": {},
     "output_type": "execute_result"
    }
   ],
   "source": [
    "from collections import OrderedDict\n",
    "o = OrderedDict(z=1, x=2, a=3)\n",
    "o, dict(o)"
   ]
  },
  {
   "cell_type": "markdown",
   "metadata": {},
   "source": [
    "If a new entry overwrites an existing entry, the original insertion position is left unchanged."
   ]
  },
  {
   "cell_type": "code",
   "execution_count": 7,
   "metadata": {},
   "outputs": [
    {
     "data": {
      "text/plain": [
       "OrderedDict([('z', 1), ('x', -2), ('a', 3)])"
      ]
     },
     "execution_count": 7,
     "metadata": {},
     "output_type": "execute_result"
    }
   ],
   "source": [
    "o['x'] = -2\n",
    "o"
   ]
  },
  {
   "cell_type": "markdown",
   "metadata": {},
   "source": [
    "Deleting an entry and reinserting it will move it to the end."
   ]
  },
  {
   "cell_type": "code",
   "execution_count": 8,
   "metadata": {},
   "outputs": [
    {
     "data": {
      "text/plain": [
       "OrderedDict([('z', 1), ('a', 3), ('x', 4)])"
      ]
     },
     "execution_count": 8,
     "metadata": {},
     "output_type": "execute_result"
    }
   ],
   "source": [
    "del o['x']; o['x'] = 4\n",
    "o"
   ]
  },
  {
   "cell_type": "markdown",
   "metadata": {},
   "source": [
    "The standard library takes advantage of ordering at several places."
   ]
  },
  {
   "cell_type": "markdown",
   "metadata": {},
   "source": [
    "### Format Specifier for Thousands Separator (v3.1, PEP 378)\n",
    "\n",
    "The built-in `format` function and `str.format` offer a simple, non-locale aware way to format a number with a thousands separator. Locale-aware applications should use the existing `n` format specifier which already has some support for thousands separators."
   ]
  },
  {
   "cell_type": "code",
   "execution_count": 9,
   "metadata": {},
   "outputs": [
    {
     "data": {
      "text/plain": [
       "'1,234,567'"
      ]
     },
     "execution_count": 9,
     "metadata": {},
     "output_type": "execute_result"
    }
   ],
   "source": [
    "format(1234567, ',d')"
   ]
  },
  {
   "cell_type": "code",
   "execution_count": 10,
   "metadata": {},
   "outputs": [
    {
     "data": {
      "text/plain": [
       "'1,234,567.89'"
      ]
     },
     "execution_count": 10,
     "metadata": {},
     "output_type": "execute_result"
    }
   ],
   "source": [
    "format(1234567.89, ',.2f')"
   ]
  },
  {
   "cell_type": "code",
   "execution_count": 11,
   "metadata": {},
   "outputs": [
    {
     "data": {
      "text/plain": [
       "'12,345.600000+8,901,234.120000j'"
      ]
     },
     "execution_count": 11,
     "metadata": {},
     "output_type": "execute_result"
    }
   ],
   "source": [
    "format(12345.6 + 8901234.12j, ',f')"
   ]
  },
  {
   "cell_type": "code",
   "execution_count": 12,
   "metadata": {},
   "outputs": [
    {
     "data": {
      "text/plain": [
       "'1,234,567.89'"
      ]
     },
     "execution_count": 12,
     "metadata": {},
     "output_type": "execute_result"
    }
   ],
   "source": [
    "import decimal\n",
    "format(decimal.Decimal('1234567.89'), ',f')"
   ]
  },
  {
   "cell_type": "markdown",
   "metadata": {},
   "source": [
    "The supported types are `int`, `float`, `complex`, and `decimal.Decimal`."
   ]
  },
  {
   "cell_type": "markdown",
   "metadata": {},
   "source": [
    "### Small Changes & Additions"
   ]
  },
  {
   "cell_type": "code",
   "execution_count": 13,
   "metadata": {},
   "outputs": [
    {
     "data": {
      "text/plain": [
       "'one two'"
      ]
     },
     "execution_count": 13,
     "metadata": {},
     "output_type": "execute_result"
    }
   ],
   "source": [
    "# Unnumbered fields in format strings\n",
    "'{} {}'.format('one', 'two')"
   ]
  },
  {
   "cell_type": "code",
   "execution_count": 14,
   "metadata": {},
   "outputs": [
    {
     "data": {
      "text/plain": [
       "(1200, int)"
      ]
     },
     "execution_count": 14,
     "metadata": {},
     "output_type": "execute_result"
    }
   ],
   "source": [
    "# round(x, n) keeps the type of passed integers,\n",
    "# instead of converting to float as before.\n",
    "i = round(1156, -2)\n",
    "i, type(i)"
   ]
  },
  {
   "cell_type": "code",
   "execution_count": 15,
   "metadata": {},
   "outputs": [
    {
     "data": {
      "text/plain": [
       "(6, '0b101010', 16)"
      ]
     },
     "execution_count": 15,
     "metadata": {},
     "output_type": "execute_result"
    }
   ],
   "source": [
    "# Bit-length of ints\n",
    "(42).bit_length(), bin(42), (65535).bit_length()"
   ]
  },
  {
   "cell_type": "code",
   "execution_count": 16,
   "metadata": {},
   "outputs": [
    {
     "data": {
      "text/plain": [
       "(True, False)"
      ]
     },
     "execution_count": 16,
     "metadata": {},
     "output_type": "execute_result"
    }
   ],
   "source": [
    "# Use this instead of `callable(f)`\n",
    "from collections import Callable\n",
    "isinstance(open, Callable), isinstance(None, Callable)"
   ]
  },
  {
   "cell_type": "code",
   "execution_count": 17,
   "metadata": {},
   "outputs": [
    {
     "data": {
      "text/plain": [
       "Counter({'red': 2, 'blue': 3, 'green': 1})"
      ]
     },
     "execution_count": 17,
     "metadata": {},
     "output_type": "execute_result"
    }
   ],
   "source": [
    "# Convenient counting of unique items in a sequence or iterable\n",
    "from collections import Counter\n",
    "Counter(['red', 'blue', 'red', 'green', 'blue', 'blue'])"
   ]
  },
  {
   "cell_type": "code",
   "execution_count": 18,
   "metadata": {},
   "outputs": [
    {
     "data": {
      "text/plain": [
       "[('A', 'A'), ('A', 'B'), ('A', 'C'), ('B', 'B'), ('B', 'C'), ('C', 'C')]"
      ]
     },
     "execution_count": 18,
     "metadata": {},
     "output_type": "execute_result"
    }
   ],
   "source": [
    "# combinations_with_replacement\n",
    "import itertools\n",
    "list(itertools.combinations_with_replacement('ABC', 2))"
   ]
  },
  {
   "cell_type": "code",
   "execution_count": 19,
   "metadata": {},
   "outputs": [
    {
     "data": {
      "text/plain": [
       "[2, 3]"
      ]
     },
     "execution_count": 19,
     "metadata": {},
     "output_type": "execute_result"
    }
   ],
   "source": [
    "# compress mimics its namesake from APL\n",
    "list(itertools.compress(data=range(5), selectors=[0,0,1,1,0]))"
   ]
  },
  {
   "cell_type": "code",
   "execution_count": 20,
   "metadata": {},
   "outputs": [
    {
     "data": {
      "text/plain": [
       "[1.1, 1.5, 1.9, 2.3]"
      ]
     },
     "execution_count": 20,
     "metadata": {},
     "output_type": "execute_result"
    }
   ],
   "source": [
    "# count takes a step argument\n",
    "c = itertools.count(start=1.1, step=0.4)\n",
    "[next(c), next(c), next(c), next(c)]"
   ]
  },
  {
   "cell_type": "code",
   "execution_count": 21,
   "metadata": {},
   "outputs": [
    {
     "data": {
      "text/plain": [
       "'nt(ok, _1, last)'"
      ]
     },
     "execution_count": 21,
     "metadata": {},
     "output_type": "execute_result"
    }
   ],
   "source": [
    "# namedtuple supports invalid fieldname as `_N` on demand\n",
    "from collections import namedtuple\n",
    "nt = namedtuple('nt', 'ok pric€ last', rename=True)\n",
    "nt.__doc__"
   ]
  },
  {
   "cell_type": "code",
   "execution_count": 22,
   "metadata": {},
   "outputs": [
    {
     "data": {
      "text/plain": [
       "sys.version_info(major=3, minor=6, micro=7, releaselevel='final', serial=0)"
      ]
     },
     "execution_count": 22,
     "metadata": {},
     "output_type": "execute_result"
    }
   ],
   "source": [
    "# sys.version_info is a named tuple\n",
    "import sys\n",
    "sys.version_info"
   ]
  },
  {
   "cell_type": "code",
   "execution_count": 23,
   "metadata": {},
   "outputs": [
    {
     "data": {
      "text/plain": [
       "(0, 1, 2)"
      ]
     },
     "execution_count": 23,
     "metadata": {},
     "output_type": "execute_result"
    }
   ],
   "source": [
    "# Constants for the seek method\n",
    "import io\n",
    "io.SEEK_SET, io.SEEK_CUR, io.SEEK_END"
   ]
  },
  {
   "cell_type": "markdown",
   "metadata": {},
   "source": [
    "Use shortened float output representation, if possible – without manipulating the underlying values, see below addition. See [0.30000000000000004.com](http://0.30000000000000004.com/) for some background."
   ]
  },
  {
   "cell_type": "code",
   "execution_count": 24,
   "metadata": {},
   "outputs": [
    {
     "data": {
      "text/plain": [
       "(1.1, 2.2, 3.3, 3.3000000000000003)"
      ]
     },
     "execution_count": 24,
     "metadata": {},
     "output_type": "execute_result"
    }
   ],
   "source": [
    "1.1, 2.2, 3.3, 1.1 + 2.2"
   ]
  },
  {
   "cell_type": "code",
   "execution_count": 25,
   "metadata": {},
   "outputs": [
    {
     "data": {
      "text/plain": [
       "(Decimal('1.100000000000000088817841970012523233890533447265625'),\n",
       " Decimal('1.1'))"
      ]
     },
     "execution_count": 25,
     "metadata": {},
     "output_type": "execute_result"
    }
   ],
   "source": [
    "# Create decimal from from binary float, with exact representation\n",
    "from decimal import Decimal\n",
    "Decimal.from_float(1.1), Decimal(str(1.1))"
   ]
  },
  {
   "cell_type": "markdown",
   "metadata": {},
   "source": [
    "The `maketrans()` and `translate()` methods are now uniformly available for `str`, `bytes`, and `bytearray`."
   ]
  },
  {
   "cell_type": "code",
   "execution_count": 26,
   "metadata": {},
   "outputs": [
    {
     "data": {
      "text/plain": [
       "({97: 592, 101: 477, 105: 305, 111: 111, 117: 110}, {97: ''})"
      ]
     },
     "execution_count": 26,
     "metadata": {},
     "output_type": "execute_result"
    }
   ],
   "source": [
    "updn = str.maketrans('aeiou', 'ɐǝıon')\n",
    "updn, str.maketrans(dict(a=''))"
   ]
  },
  {
   "cell_type": "code",
   "execution_count": 27,
   "metadata": {},
   "outputs": [
    {
     "data": {
      "text/plain": [
       "'Lorǝm ıpsnm'"
      ]
     },
     "execution_count": 27,
     "metadata": {},
     "output_type": "execute_result"
    }
   ],
   "source": [
    "'Lorem ipsum'.translate(updn)"
   ]
  },
  {
   "cell_type": "markdown",
   "metadata": {},
   "source": [
    "`help()` now supports symbols, like `~`."
   ]
  },
  {
   "cell_type": "code",
   "execution_count": 28,
   "metadata": {},
   "outputs": [
    {
     "data": {
      "text/plain": [
       "'| \"+x\", \"-x\", \"~x\" | Positive, negative, bitwise NOT |'"
      ]
     },
     "execution_count": 28,
     "metadata": {},
     "output_type": "execute_result"
    }
   ],
   "source": [
    "import io, re\n",
    "from unittest.mock import patch\n",
    "with patch('sys.stdout', new=io.StringIO()) as out:\n",
    "    help('~')\n",
    "re.sub(' +', ' ', [x for x in out.getvalue().splitlines() if '~' in x][0])"
   ]
  }
 ],
 "metadata": {
  "kernelspec": {
   "display_name": "Python 3",
   "language": "python",
   "name": "python3"
  },
  "language_info": {
   "codemirror_mode": {
    "name": "ipython",
    "version": 3
   },
   "file_extension": ".py",
   "mimetype": "text/x-python",
   "name": "python",
   "nbconvert_exporter": "python",
   "pygments_lexer": "ipython3",
   "version": "3.6.7"
  }
 },
 "nbformat": 4,
 "nbformat_minor": 2
}

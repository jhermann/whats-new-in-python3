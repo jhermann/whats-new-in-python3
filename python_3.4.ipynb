{
 "cells": [
  {
   "cell_type": "markdown",
   "metadata": {},
   "source": [
    "## What's new in Python 3.4 and below?\n",
    "\n",
    "This show-cases new features in the form of code snippets, based on these documents:\n",
    "\n",
    "* [What’s New In Python 3.0](https://docs.python.org/3.6/whatsnew/3.0.html)\n",
    "* [What’s New In Python 3.1](https://docs.python.org/3.6/whatsnew/3.1.html)\n",
    "* [What’s New In Python 3.2](https://docs.python.org/3.6/whatsnew/3.2.html)\n",
    "* [What’s New In Python 3.3](https://docs.python.org/3.6/whatsnew/3.3.html)\n",
    "* [What’s New In Python 3.4](https://docs.python.org/3.6/whatsnew/3.4.html)\n",
    "\n"
   ]
  }
 ],
 "metadata": {
  "kernelspec": {
   "display_name": "Python 3",
   "language": "python",
   "name": "python3"
  },
  "language_info": {
   "codemirror_mode": {
    "name": "ipython",
    "version": 3
   },
   "file_extension": ".py",
   "mimetype": "text/x-python",
   "name": "python",
   "nbconvert_exporter": "python",
   "pygments_lexer": "ipython3",
   "version": "3.6.7"
  }
 },
 "nbformat": 4,
 "nbformat_minor": 2
}
